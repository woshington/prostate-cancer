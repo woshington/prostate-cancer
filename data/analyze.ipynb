{
 "cells": [
  {
   "cell_type": "code",
   "id": "initial_id",
   "metadata": {
    "collapsed": true,
    "ExecuteTime": {
     "end_time": "2025-03-07T14:55:44.049621Z",
     "start_time": "2025-03-07T14:55:44.046776Z"
    }
   },
   "source": "import pandas as pd",
   "outputs": [],
   "execution_count": 2
  },
  {
   "metadata": {
    "ExecuteTime": {
     "end_time": "2025-03-07T14:55:44.082492Z",
     "start_time": "2025-03-07T14:55:44.060659Z"
    }
   },
   "cell_type": "code",
   "source": [
    "df = pd.read_csv(\"test.csv\")\n",
    "clean = pd.read_csv(\"without_pen_mask.csv\")\n",
    "df_train = pd.read_csv(\"train_5fold.csv\")"
   ],
   "id": "4aa7eeba61cce822",
   "outputs": [],
   "execution_count": 3
  },
  {
   "metadata": {
    "ExecuteTime": {
     "end_time": "2025-03-07T14:55:44.133526Z",
     "start_time": "2025-03-07T14:55:44.117599Z"
    }
   },
   "cell_type": "code",
   "source": [
    "print(df.shape)\n",
    "print(clean[clean[\"reason\"]==\"marks\"].shape)\n",
    "print(df_train.shape)\n",
    "df_train = df_train[~df_train[\"image_id\"].isin(clean[clean[\"reason\"]==\"marks\"].image_id)]\n",
    "print(\"val\", df_train[df_train[\"fold\"] == 3].shape)\n",
    "print(\"train\", df_train[df_train[\"fold\"] != 3].shape)\n",
    "\n",
    "fold_counts = df_train.groupby('fold').size()\n",
    "\n",
    "print(fold_counts)\n"
   ],
   "id": "c68ff5ba4f3b62b7",
   "outputs": [
    {
     "name": "stdout",
     "output_type": "stream",
     "text": [
      "(1592, 4)\n",
      "(475, 2)\n",
      "(9024, 5)\n",
      "val (1737, 5)\n",
      "train (6891, 5)\n",
      "fold\n",
      "0    1726\n",
      "1    1712\n",
      "2    1716\n",
      "3    1737\n",
      "4    1737\n",
      "dtype: int64\n"
     ]
    }
   ],
   "execution_count": 4
  },
  {
   "metadata": {
    "ExecuteTime": {
     "end_time": "2025-03-07T14:55:44.239921Z",
     "start_time": "2025-03-07T14:55:44.234897Z"
    }
   },
   "cell_type": "code",
   "source": "df = df[~df[\"image_id\"].isin(clean[\"image_id\"])]",
   "id": "87ea5c04781f984d",
   "outputs": [],
   "execution_count": 5
  },
  {
   "metadata": {
    "ExecuteTime": {
     "end_time": "2025-03-07T17:34:04.762105Z",
     "start_time": "2025-03-07T17:34:04.756311Z"
    }
   },
   "cell_type": "code",
   "source": "df_train[df_train[\"isup_grade\"] == 5].shape",
   "id": "c9805ee98c006435",
   "outputs": [
    {
     "data": {
      "text/plain": [
       "(955, 5)"
      ]
     },
     "execution_count": 26,
     "metadata": {},
     "output_type": "execute_result"
    }
   ],
   "execution_count": 26
  },
  {
   "metadata": {
    "ExecuteTime": {
     "end_time": "2025-03-07T17:34:43.253889Z",
     "start_time": "2025-03-07T17:34:43.249274Z"
    }
   },
   "cell_type": "code",
   "source": "df_train[(df_train[\"data_provider\"] == \"radboud\") & (df_train[\"isup_grade\"] == 0)].shape",
   "id": "b163064894255ece",
   "outputs": [
    {
     "data": {
      "text/plain": [
       "(793, 5)"
      ]
     },
     "execution_count": 29,
     "metadata": {},
     "output_type": "execute_result"
    }
   ],
   "execution_count": 29
  },
  {
   "metadata": {
    "ExecuteTime": {
     "end_time": "2025-03-07T17:35:14.674515Z",
     "start_time": "2025-03-07T17:35:14.670009Z"
    }
   },
   "cell_type": "code",
   "source": "df_train[(df_train[\"data_provider\"] == \"karolinska\") & (df_train[\"isup_grade\"] == 5)].shape\n",
   "id": "253cc0ec8b8955f",
   "outputs": [
    {
     "data": {
      "text/plain": [
       "(214, 5)"
      ]
     },
     "execution_count": 31,
     "metadata": {},
     "output_type": "execute_result"
    }
   ],
   "execution_count": 31
  },
  {
   "metadata": {},
   "cell_type": "code",
   "outputs": [],
   "execution_count": null,
   "source": "",
   "id": "131aa571dde1405b"
  },
  {
   "metadata": {},
   "cell_type": "markdown",
   "source": "# Predict Analyse",
   "id": "a9d913a2883cfa12"
  },
  {
   "metadata": {
    "ExecuteTime": {
     "end_time": "2025-03-07T17:04:10.120289Z",
     "start_time": "2025-03-07T17:04:10.106711Z"
    }
   },
   "cell_type": "code",
   "source": [
    "df_predict_clean = pd.read_csv(\"predict_clean.csv\")\n",
    "df_test = pd.read_csv(\"test.csv\")\n",
    "\n",
    "df_merge = pd.merge(df_predict_clean, df_test, on=\"image_id\")"
   ],
   "id": "33b4b3a8b8cb8c2a",
   "outputs": [
    {
     "name": "stdout",
     "output_type": "stream",
     "text": [
      "(1592, 7)\n",
      "   Unnamed: 0  target  pred                          image_id data_provider  \\\n",
      "0           0     0.0   0.0  5ad2c7349c24ed5c4901522bec9d3077    karolinska   \n",
      "1           1     4.0   4.0  96bb7ad81bef9aa7ce0280d7b49b6476    karolinska   \n",
      "2           2     2.0   3.0  cb9bc923249b183c8fc5b904f622695e       radboud   \n",
      "3           3     1.0   0.0  f7af5eef3236461e745cd8b81f1cf93b    karolinska   \n",
      "4           4     0.0   0.0  f35124ad7e0c9d8537a8e57966c06445    karolinska   \n",
      "\n",
      "   isup_grade gleason_score  \n",
      "0           0           0+0  \n",
      "1           4           4+4  \n",
      "2           2           3+4  \n",
      "3           1           3+3  \n",
      "4           0           0+0  \n"
     ]
    }
   ],
   "execution_count": 15
  },
  {
   "metadata": {
    "ExecuteTime": {
     "end_time": "2025-03-07T20:00:08.605287Z",
     "start_time": "2025-03-07T20:00:08.601146Z"
    }
   },
   "cell_type": "code",
   "source": [
    "df_merge[(df_merge[\"target\"]==5) & (df_merge[\"pred\"] == 0)].shape\n",
    "# df_merge[(df_merge[\"target\"]==5)].value_counts(\"data_provider\")"
   ],
   "id": "62b18299e65dbf45",
   "outputs": [
    {
     "data": {
      "text/plain": [
       "(10, 7)"
      ]
     },
     "execution_count": 65,
     "metadata": {},
     "output_type": "execute_result"
    }
   ],
   "execution_count": 65
  },
  {
   "metadata": {},
   "cell_type": "code",
   "outputs": [],
   "execution_count": null,
   "source": "df_test[(df_test[\"data_provider\"]==\"radboud\") & (df_test[\"data_provider\"]==\"radboud\")]",
   "id": "f4d87ea2d9f49d09"
  },
  {
   "metadata": {
    "ExecuteTime": {
     "end_time": "2025-03-07T18:35:25.890644Z",
     "start_time": "2025-03-07T18:35:25.883492Z"
    }
   },
   "cell_type": "code",
   "source": "df_test.groupby([\"isup_grade\", \"data_provider\"]).size().unstack()",
   "id": "2bcbc0f6a5a89ded",
   "outputs": [
    {
     "data": {
      "text/plain": [
       "data_provider  karolinska  radboud\n",
       "isup_grade                        \n",
       "0                     280      154\n",
       "1                     291      109\n",
       "2                     115       86\n",
       "3                      46      140\n",
       "4                      66      121\n",
       "5                      37      147"
      ],
      "text/html": [
       "<div>\n",
       "<style scoped>\n",
       "    .dataframe tbody tr th:only-of-type {\n",
       "        vertical-align: middle;\n",
       "    }\n",
       "\n",
       "    .dataframe tbody tr th {\n",
       "        vertical-align: top;\n",
       "    }\n",
       "\n",
       "    .dataframe thead th {\n",
       "        text-align: right;\n",
       "    }\n",
       "</style>\n",
       "<table border=\"1\" class=\"dataframe\">\n",
       "  <thead>\n",
       "    <tr style=\"text-align: right;\">\n",
       "      <th>data_provider</th>\n",
       "      <th>karolinska</th>\n",
       "      <th>radboud</th>\n",
       "    </tr>\n",
       "    <tr>\n",
       "      <th>isup_grade</th>\n",
       "      <th></th>\n",
       "      <th></th>\n",
       "    </tr>\n",
       "  </thead>\n",
       "  <tbody>\n",
       "    <tr>\n",
       "      <th>0</th>\n",
       "      <td>280</td>\n",
       "      <td>154</td>\n",
       "    </tr>\n",
       "    <tr>\n",
       "      <th>1</th>\n",
       "      <td>291</td>\n",
       "      <td>109</td>\n",
       "    </tr>\n",
       "    <tr>\n",
       "      <th>2</th>\n",
       "      <td>115</td>\n",
       "      <td>86</td>\n",
       "    </tr>\n",
       "    <tr>\n",
       "      <th>3</th>\n",
       "      <td>46</td>\n",
       "      <td>140</td>\n",
       "    </tr>\n",
       "    <tr>\n",
       "      <th>4</th>\n",
       "      <td>66</td>\n",
       "      <td>121</td>\n",
       "    </tr>\n",
       "    <tr>\n",
       "      <th>5</th>\n",
       "      <td>37</td>\n",
       "      <td>147</td>\n",
       "    </tr>\n",
       "  </tbody>\n",
       "</table>\n",
       "</div>"
      ]
     },
     "execution_count": 48,
     "metadata": {},
     "output_type": "execute_result"
    }
   ],
   "execution_count": 48
  },
  {
   "metadata": {},
   "cell_type": "markdown",
   "source": "# Data visualization",
   "id": "f4b885353989487b"
  },
  {
   "metadata": {
    "ExecuteTime": {
     "end_time": "2025-03-07T19:59:02.231481Z",
     "start_time": "2025-03-07T19:59:02.223420Z"
    }
   },
   "cell_type": "code",
   "source": [
    "df_counts_train = df_train.groupby(['isup_grade', 'data_provider']).size().unstack()\n",
    "df_counts_test = df_test.groupby(['isup_grade', 'data_provider']).size().unstack()\n",
    "\n",
    "df_counts_test"
   ],
   "id": "b99f75f57253bc91",
   "outputs": [
    {
     "data": {
      "text/plain": [
       "data_provider  karolinska  radboud\n",
       "isup_grade                        \n",
       "0                     280      154\n",
       "1                     291      109\n",
       "2                     115       86\n",
       "3                      46      140\n",
       "4                      66      121\n",
       "5                      37      147"
      ],
      "text/html": [
       "<div>\n",
       "<style scoped>\n",
       "    .dataframe tbody tr th:only-of-type {\n",
       "        vertical-align: middle;\n",
       "    }\n",
       "\n",
       "    .dataframe tbody tr th {\n",
       "        vertical-align: top;\n",
       "    }\n",
       "\n",
       "    .dataframe thead th {\n",
       "        text-align: right;\n",
       "    }\n",
       "</style>\n",
       "<table border=\"1\" class=\"dataframe\">\n",
       "  <thead>\n",
       "    <tr style=\"text-align: right;\">\n",
       "      <th>data_provider</th>\n",
       "      <th>karolinska</th>\n",
       "      <th>radboud</th>\n",
       "    </tr>\n",
       "    <tr>\n",
       "      <th>isup_grade</th>\n",
       "      <th></th>\n",
       "      <th></th>\n",
       "    </tr>\n",
       "  </thead>\n",
       "  <tbody>\n",
       "    <tr>\n",
       "      <th>0</th>\n",
       "      <td>280</td>\n",
       "      <td>154</td>\n",
       "    </tr>\n",
       "    <tr>\n",
       "      <th>1</th>\n",
       "      <td>291</td>\n",
       "      <td>109</td>\n",
       "    </tr>\n",
       "    <tr>\n",
       "      <th>2</th>\n",
       "      <td>115</td>\n",
       "      <td>86</td>\n",
       "    </tr>\n",
       "    <tr>\n",
       "      <th>3</th>\n",
       "      <td>46</td>\n",
       "      <td>140</td>\n",
       "    </tr>\n",
       "    <tr>\n",
       "      <th>4</th>\n",
       "      <td>66</td>\n",
       "      <td>121</td>\n",
       "    </tr>\n",
       "    <tr>\n",
       "      <th>5</th>\n",
       "      <td>37</td>\n",
       "      <td>147</td>\n",
       "    </tr>\n",
       "  </tbody>\n",
       "</table>\n",
       "</div>"
      ]
     },
     "execution_count": 63,
     "metadata": {},
     "output_type": "execute_result"
    }
   ],
   "execution_count": 63
  }
 ],
 "metadata": {
  "kernelspec": {
   "display_name": "Python 3",
   "language": "python",
   "name": "python3"
  },
  "language_info": {
   "codemirror_mode": {
    "name": "ipython",
    "version": 2
   },
   "file_extension": ".py",
   "mimetype": "text/x-python",
   "name": "python",
   "nbconvert_exporter": "python",
   "pygments_lexer": "ipython2",
   "version": "2.7.6"
  }
 },
 "nbformat": 4,
 "nbformat_minor": 5
}
