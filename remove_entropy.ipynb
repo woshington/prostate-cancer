{
 "cells": [
  {
   "metadata": {
    "ExecuteTime": {
     "end_time": "2025-02-04T12:58:57.176161Z",
     "start_time": "2025-02-04T12:58:57.172480Z"
    }
   },
   "cell_type": "code",
   "source": [
    "import numpy as np\n",
    "from warmup_scheduler import GradualWarmupScheduler\n",
    "import pandas as pd\n",
    "import os\n",
    "import torch\n",
    "from torch import nn, optim\n",
    "from sklearn.model_selection import train_test_split\n",
    "\n",
    "from work.utils.dataset import PandasDataset\n",
    "from work.utils.dataset import RemovePenMarkAlbumentations\n",
    "import albumentations as A\n",
    "\n",
    "from torch.utils.data import DataLoader\n",
    "from work.utils.models import EfficientNet\n",
    "from work.utils.train import train_model\n",
    "from work.utils.metrics import model_checkpoint"
   ],
   "id": "483668e801666484",
   "outputs": [],
   "execution_count": 9
  },
  {
   "metadata": {
    "ExecuteTime": {
     "end_time": "2025-02-04T12:47:16.046188Z",
     "start_time": "2025-02-04T12:47:16.036446Z"
    }
   },
   "cell_type": "code",
   "source": [
    "backbone_model = 'efficientnet-b0'\n",
    "pretrained_model = {\n",
    "    backbone_model: 'pre-trained-models/efficientnet-b0-08094119.pth'\n",
    "}\n",
    "data_dir = 'data'\n",
    "images_dir = os.path.join(data_dir, 'tiles')\n",
    "device = torch.device(\"cuda\" if torch.cuda.is_available() else \"cpu\")\n",
    "print(device)"
   ],
   "id": "88fb66b70ae208d8",
   "outputs": [
    {
     "name": "stdout",
     "output_type": "stream",
     "text": [
      "cuda\n"
     ]
    }
   ],
   "execution_count": 2
  },
  {
   "metadata": {
    "ExecuteTime": {
     "end_time": "2025-02-04T12:59:00.338246Z",
     "start_time": "2025-02-04T12:59:00.326796Z"
    }
   },
   "cell_type": "code",
   "source": [
    "# Leitura dos dados\n",
    "df_remove = pd.read_csv(f\"{data_dir}/remove-images.csv\").sort_values(by=[\"entropy\"], ascending=False)\n",
    "df = pd.read_csv(f\"{data_dir}/train_val.csv\")\n",
    "df_remove_filtered = df_remove[df_remove[\"entropy\"] < 1.3]\n",
    "#\n",
    "df_filtered = df[df[\"image_id\"].isin(df_remove_filtered[\"image_id\"])]\n",
    "print(f\"Original shape: {df.shape}\")\n",
    "print(f\"Filtered shape: {df_filtered.shape}\")"
   ],
   "id": "2d3af8bbbabe5715",
   "outputs": [
    {
     "data": {
      "text/plain": [
       "array([1.3160478, 1.3184186, 1.3194076, 1.3210733, 1.3219315])"
      ]
     },
     "execution_count": 10,
     "metadata": {},
     "output_type": "execute_result"
    }
   ],
   "execution_count": 10
  },
  {
   "metadata": {
    "ExecuteTime": {
     "end_time": "2025-02-02T02:46:40.764692Z",
     "start_time": "2025-02-02T02:46:40.762169Z"
    }
   },
   "cell_type": "code",
   "source": [
    "batch_size = 2\n",
    "num_workers = 4\n",
    "output_classes = 5\n",
    "init_lr = 3e-4\n",
    "loss_function = nn.BCEWithLogitsLoss()\n",
    "epochs = 50\n",
    "n_folds = 5\n",
    "device = torch.device(\"cuda\" if torch.cuda.is_available() else \"cpu\")"
   ],
   "id": "d3a4783244dd5d",
   "outputs": [],
   "execution_count": 4
  },
  {
   "metadata": {
    "ExecuteTime": {
     "end_time": "2025-02-02T02:46:40.813175Z",
     "start_time": "2025-02-02T02:46:40.808910Z"
    }
   },
   "cell_type": "code",
   "source": [
    "transforms = A.Compose([\n",
    "    # RemovePenMarkAlbumentations(),\n",
    "    A.Transpose(p=0.5),\n",
    "    A.VerticalFlip(p=0.5),\n",
    "    A.HorizontalFlip(p=0.5),\n",
    "])"
   ],
   "id": "178dead01c761666",
   "outputs": [],
   "execution_count": 5
  },
  {
   "metadata": {
    "ExecuteTime": {
     "end_time": "2025-02-02T22:56:42.828835Z",
     "start_time": "2025-02-02T02:46:40.885820Z"
    }
   },
   "cell_type": "code",
   "source": [
    "df_train, df_val = train_test_split(df_filtered, test_size=0.20)\n",
    "\n",
    "dataset_train = PandasDataset(\"../dataset/tiles\", df_train, transforms=transforms)\n",
    "dataset_valid = PandasDataset(\"../dataset/tiles\", df_val)\n",
    "\n",
    "print(f\"train: {len(dataset_train)} images | validation: {len(dataset_valid)} images \")\n",
    "\n",
    "train_loader = DataLoader(dataset_train, batch_size=batch_size, shuffle=True, num_workers=num_workers)\n",
    "\n",
    "valid_loader = DataLoader(dataset_valid, batch_size=batch_size, shuffle=True, num_workers=num_workers)\n",
    "\n",
    "model = EfficientNet(backbone_model, output_classes, weights_path=pretrained_model.get(backbone_model))\n",
    "optimizer = optim.Adam(model.parameters(), lr=init_lr)\n",
    "# scheduler = optim.lr_scheduler.ReduceLROnPlateau(optimizer, 'min')\n",
    "scheduler_cosine = torch.optim.lr_scheduler.CosineAnnealingLR(optimizer, epochs - 1)\n",
    "\n",
    "scheduler = GradualWarmupScheduler(optimizer, multiplier=10, total_epoch = 1, after_scheduler=scheduler_cosine)\n",
    "\n",
    "\n",
    "save_path = f'pre-trained-models/removed-images.pth'\n",
    "\n",
    "train_model(\n",
    "    model,\n",
    "    epochs,\n",
    "    optimizer,\n",
    "    scheduler,\n",
    "    train_loader,\n",
    "    valid_loader,\n",
    "    df_val,\n",
    "    checkpoint=model_checkpoint,\n",
    "    device=device,\n",
    "    loss_function=loss_function,\n",
    "    path_to_save_metrics=\"logs/history/removed-images.txt\",\n",
    "    path_to_save_model=save_path,\n",
    ")\n",
    "\n"
   ],
   "id": "c81b076171c0b059",
   "outputs": [
    {
     "name": "stdout",
     "output_type": "stream",
     "text": [
      "train: 6433 images | validation: 1609 images \n",
      "Loaded pretrained weights for efficientnet-b0\n",
      "Epoch 1/50\n",
      "\n"
     ]
    },
    {
     "name": "stderr",
     "output_type": "stream",
     "text": [
      "loss: 0.19289, smooth loss: 0.34276: 100%|██████████| 3217/3217 [22:40<00:00,  2.36it/s]\n",
      "100%|██████████| 805/805 [01:48<00:00,  7.44it/s]\n"
     ]
    },
    {
     "name": "stdout",
     "output_type": "stream",
     "text": [
      "Epoch 2/50\n",
      "\n"
     ]
    },
    {
     "name": "stderr",
     "output_type": "stream",
     "text": [
      "loss: 0.66366, smooth loss: 0.54756: 100%|██████████| 3217/3217 [22:30<00:00,  2.38it/s]\n",
      "100%|██████████| 805/805 [01:48<00:00,  7.42it/s]\n"
     ]
    },
    {
     "name": "stdout",
     "output_type": "stream",
     "text": [
      "Epoch 3/50\n",
      "\n"
     ]
    },
    {
     "name": "stderr",
     "output_type": "stream",
     "text": [
      "loss: 0.65118, smooth loss: 0.47414: 100%|██████████| 3217/3217 [22:31<00:00,  2.38it/s]\n",
      "100%|██████████| 805/805 [01:48<00:00,  7.42it/s]\n"
     ]
    },
    {
     "name": "stdout",
     "output_type": "stream",
     "text": [
      "Epoch 4/50\n",
      "\n"
     ]
    },
    {
     "name": "stderr",
     "output_type": "stream",
     "text": [
      "loss: 0.82752, smooth loss: 0.42192: 100%|██████████| 3217/3217 [22:31<00:00,  2.38it/s]\n",
      "100%|██████████| 805/805 [01:48<00:00,  7.41it/s]\n"
     ]
    },
    {
     "name": "stdout",
     "output_type": "stream",
     "text": [
      "Epoch 5/50\n",
      "\n"
     ]
    },
    {
     "name": "stderr",
     "output_type": "stream",
     "text": [
      "loss: 0.34460, smooth loss: 0.36397: 100%|██████████| 3217/3217 [22:31<00:00,  2.38it/s]\n",
      "100%|██████████| 805/805 [01:48<00:00,  7.41it/s]\n"
     ]
    },
    {
     "name": "stdout",
     "output_type": "stream",
     "text": [
      "Epoch 6/50\n",
      "\n"
     ]
    },
    {
     "name": "stderr",
     "output_type": "stream",
     "text": [
      "loss: 0.29393, smooth loss: 0.39305: 100%|██████████| 3217/3217 [22:30<00:00,  2.38it/s]\n",
      "100%|██████████| 805/805 [01:48<00:00,  7.41it/s]\n"
     ]
    },
    {
     "name": "stdout",
     "output_type": "stream",
     "text": [
      "Epoch 7/50\n",
      "\n"
     ]
    },
    {
     "name": "stderr",
     "output_type": "stream",
     "text": [
      "loss: 0.19315, smooth loss: 0.38934: 100%|██████████| 3217/3217 [22:30<00:00,  2.38it/s]\n",
      "100%|██████████| 805/805 [01:48<00:00,  7.41it/s]\n"
     ]
    },
    {
     "name": "stdout",
     "output_type": "stream",
     "text": [
      "Epoch 8/50\n",
      "\n"
     ]
    },
    {
     "name": "stderr",
     "output_type": "stream",
     "text": [
      "loss: 0.26637, smooth loss: 0.37560: 100%|██████████| 3217/3217 [22:29<00:00,  2.38it/s]\n",
      "100%|██████████| 805/805 [01:48<00:00,  7.42it/s]\n"
     ]
    },
    {
     "name": "stdout",
     "output_type": "stream",
     "text": [
      "Epoch 9/50\n",
      "\n"
     ]
    },
    {
     "name": "stderr",
     "output_type": "stream",
     "text": [
      "loss: 0.44706, smooth loss: 0.36533: 100%|██████████| 3217/3217 [22:31<00:00,  2.38it/s]\n",
      "100%|██████████| 805/805 [01:48<00:00,  7.41it/s]\n"
     ]
    },
    {
     "name": "stdout",
     "output_type": "stream",
     "text": [
      "Epoch 10/50\n",
      "\n"
     ]
    },
    {
     "name": "stderr",
     "output_type": "stream",
     "text": [
      "loss: 0.71648, smooth loss: 0.34013: 100%|██████████| 3217/3217 [22:30<00:00,  2.38it/s]\n",
      "100%|██████████| 805/805 [01:48<00:00,  7.41it/s]\n"
     ]
    },
    {
     "name": "stdout",
     "output_type": "stream",
     "text": [
      "Epoch 11/50\n",
      "\n"
     ]
    },
    {
     "name": "stderr",
     "output_type": "stream",
     "text": [
      "loss: 0.30395, smooth loss: 0.36622: 100%|██████████| 3217/3217 [22:29<00:00,  2.38it/s]\n",
      "100%|██████████| 805/805 [01:48<00:00,  7.40it/s]\n"
     ]
    },
    {
     "name": "stdout",
     "output_type": "stream",
     "text": [
      "Epoch 12/50\n",
      "\n"
     ]
    },
    {
     "name": "stderr",
     "output_type": "stream",
     "text": [
      "loss: 0.33344, smooth loss: 0.33689: 100%|██████████| 3217/3217 [22:30<00:00,  2.38it/s]\n",
      "100%|██████████| 805/805 [01:48<00:00,  7.41it/s]\n"
     ]
    },
    {
     "name": "stdout",
     "output_type": "stream",
     "text": [
      "Epoch 13/50\n",
      "\n"
     ]
    },
    {
     "name": "stderr",
     "output_type": "stream",
     "text": [
      "loss: 0.28462, smooth loss: 0.30389: 100%|██████████| 3217/3217 [22:30<00:00,  2.38it/s]\n",
      "100%|██████████| 805/805 [01:48<00:00,  7.41it/s]\n"
     ]
    },
    {
     "name": "stdout",
     "output_type": "stream",
     "text": [
      "Epoch 14/50\n",
      "\n"
     ]
    },
    {
     "name": "stderr",
     "output_type": "stream",
     "text": [
      "loss: 0.27154, smooth loss: 0.26109: 100%|██████████| 3217/3217 [22:30<00:00,  2.38it/s]\n",
      "100%|██████████| 805/805 [01:48<00:00,  7.41it/s]\n"
     ]
    },
    {
     "name": "stdout",
     "output_type": "stream",
     "text": [
      "Epoch 15/50\n",
      "\n"
     ]
    },
    {
     "name": "stderr",
     "output_type": "stream",
     "text": [
      "loss: 0.15762, smooth loss: 0.28679: 100%|██████████| 3217/3217 [22:30<00:00,  2.38it/s]\n",
      "100%|██████████| 805/805 [01:48<00:00,  7.41it/s]\n"
     ]
    },
    {
     "name": "stdout",
     "output_type": "stream",
     "text": [
      "Epoch 16/50\n",
      "\n"
     ]
    },
    {
     "name": "stderr",
     "output_type": "stream",
     "text": [
      "loss: 0.13094, smooth loss: 0.27758: 100%|██████████| 3217/3217 [22:30<00:00,  2.38it/s]\n",
      "100%|██████████| 805/805 [01:48<00:00,  7.41it/s]\n"
     ]
    },
    {
     "name": "stdout",
     "output_type": "stream",
     "text": [
      "Epoch 17/50\n",
      "\n"
     ]
    },
    {
     "name": "stderr",
     "output_type": "stream",
     "text": [
      "loss: 0.22893, smooth loss: 0.27006: 100%|██████████| 3217/3217 [22:31<00:00,  2.38it/s]\n",
      "100%|██████████| 805/805 [01:48<00:00,  7.41it/s]\n"
     ]
    },
    {
     "name": "stdout",
     "output_type": "stream",
     "text": [
      "Epoch 18/50\n",
      "\n"
     ]
    },
    {
     "name": "stderr",
     "output_type": "stream",
     "text": [
      "loss: 0.22181, smooth loss: 0.28298: 100%|██████████| 3217/3217 [22:30<00:00,  2.38it/s]\n",
      "100%|██████████| 805/805 [01:48<00:00,  7.41it/s]\n"
     ]
    },
    {
     "name": "stdout",
     "output_type": "stream",
     "text": [
      "Epoch 19/50\n",
      "\n"
     ]
    },
    {
     "name": "stderr",
     "output_type": "stream",
     "text": [
      "loss: 0.56986, smooth loss: 0.29898: 100%|██████████| 3217/3217 [22:30<00:00,  2.38it/s]\n",
      "100%|██████████| 805/805 [01:48<00:00,  7.42it/s]\n"
     ]
    },
    {
     "name": "stdout",
     "output_type": "stream",
     "text": [
      "Epoch 20/50\n",
      "\n"
     ]
    },
    {
     "name": "stderr",
     "output_type": "stream",
     "text": [
      "loss: 0.24890, smooth loss: 0.27832: 100%|██████████| 3217/3217 [22:30<00:00,  2.38it/s]\n",
      "100%|██████████| 805/805 [01:48<00:00,  7.40it/s]\n"
     ]
    },
    {
     "name": "stdout",
     "output_type": "stream",
     "text": [
      "Epoch 21/50\n",
      "\n"
     ]
    },
    {
     "name": "stderr",
     "output_type": "stream",
     "text": [
      "loss: 0.03613, smooth loss: 0.31170: 100%|██████████| 3217/3217 [22:30<00:00,  2.38it/s]\n",
      "100%|██████████| 805/805 [01:48<00:00,  7.42it/s]\n"
     ]
    },
    {
     "name": "stdout",
     "output_type": "stream",
     "text": [
      "Epoch 22/50\n",
      "\n"
     ]
    },
    {
     "name": "stderr",
     "output_type": "stream",
     "text": [
      "loss: 0.06961, smooth loss: 0.23693: 100%|██████████| 3217/3217 [22:30<00:00,  2.38it/s]\n",
      "100%|██████████| 805/805 [01:48<00:00,  7.41it/s]\n"
     ]
    },
    {
     "name": "stdout",
     "output_type": "stream",
     "text": [
      "Epoch 23/50\n",
      "\n"
     ]
    },
    {
     "name": "stderr",
     "output_type": "stream",
     "text": [
      "loss: 0.12256, smooth loss: 0.23848: 100%|██████████| 3217/3217 [22:30<00:00,  2.38it/s]\n",
      "100%|██████████| 805/805 [01:49<00:00,  7.35it/s]\n"
     ]
    },
    {
     "name": "stdout",
     "output_type": "stream",
     "text": [
      "Epoch 24/50\n",
      "\n"
     ]
    },
    {
     "name": "stderr",
     "output_type": "stream",
     "text": [
      "loss: 0.09114, smooth loss: 0.24301: 100%|██████████| 3217/3217 [22:16<00:00,  2.41it/s]\n",
      "100%|██████████| 805/805 [01:47<00:00,  7.48it/s]\n"
     ]
    },
    {
     "name": "stdout",
     "output_type": "stream",
     "text": [
      "Epoch 25/50\n",
      "\n"
     ]
    },
    {
     "name": "stderr",
     "output_type": "stream",
     "text": [
      "loss: 0.13483, smooth loss: 0.23758: 100%|██████████| 3217/3217 [22:17<00:00,  2.40it/s]\n",
      "100%|██████████| 805/805 [01:47<00:00,  7.47it/s]\n"
     ]
    },
    {
     "name": "stdout",
     "output_type": "stream",
     "text": [
      "Epoch 26/50\n",
      "\n"
     ]
    },
    {
     "name": "stderr",
     "output_type": "stream",
     "text": [
      "loss: 0.19264, smooth loss: 0.26626: 100%|██████████| 3217/3217 [22:18<00:00,  2.40it/s]\n",
      "100%|██████████| 805/805 [01:47<00:00,  7.47it/s]\n"
     ]
    },
    {
     "name": "stdout",
     "output_type": "stream",
     "text": [
      "Epoch 27/50\n",
      "\n"
     ]
    },
    {
     "name": "stderr",
     "output_type": "stream",
     "text": [
      "loss: 0.02700, smooth loss: 0.25329: 100%|██████████| 3217/3217 [22:18<00:00,  2.40it/s]\n",
      "100%|██████████| 805/805 [01:47<00:00,  7.49it/s]\n"
     ]
    },
    {
     "name": "stdout",
     "output_type": "stream",
     "text": [
      "Epoch 28/50\n",
      "\n"
     ]
    },
    {
     "name": "stderr",
     "output_type": "stream",
     "text": [
      "loss: 0.61208, smooth loss: 0.24532: 100%|██████████| 3217/3217 [22:18<00:00,  2.40it/s]\n",
      "100%|██████████| 805/805 [01:47<00:00,  7.46it/s]\n"
     ]
    },
    {
     "name": "stdout",
     "output_type": "stream",
     "text": [
      "Epoch 29/50\n",
      "\n"
     ]
    },
    {
     "name": "stderr",
     "output_type": "stream",
     "text": [
      "loss: 0.10573, smooth loss: 0.22180: 100%|██████████| 3217/3217 [22:18<00:00,  2.40it/s]\n",
      "100%|██████████| 805/805 [01:47<00:00,  7.47it/s]\n"
     ]
    },
    {
     "name": "stdout",
     "output_type": "stream",
     "text": [
      "Epoch 30/50\n",
      "\n"
     ]
    },
    {
     "name": "stderr",
     "output_type": "stream",
     "text": [
      "loss: 0.17553, smooth loss: 0.27396: 100%|██████████| 3217/3217 [22:17<00:00,  2.40it/s]\n",
      "100%|██████████| 805/805 [01:47<00:00,  7.48it/s]\n"
     ]
    },
    {
     "name": "stdout",
     "output_type": "stream",
     "text": [
      "Epoch 31/50\n",
      "\n"
     ]
    },
    {
     "name": "stderr",
     "output_type": "stream",
     "text": [
      "loss: 0.08644, smooth loss: 0.24895: 100%|██████████| 3217/3217 [22:17<00:00,  2.41it/s]\n",
      "100%|██████████| 805/805 [01:47<00:00,  7.47it/s]\n"
     ]
    },
    {
     "name": "stdout",
     "output_type": "stream",
     "text": [
      "Epoch 32/50\n",
      "\n"
     ]
    },
    {
     "name": "stderr",
     "output_type": "stream",
     "text": [
      "loss: 0.15631, smooth loss: 0.21872: 100%|██████████| 3217/3217 [22:17<00:00,  2.40it/s]\n",
      "100%|██████████| 805/805 [01:47<00:00,  7.47it/s]\n"
     ]
    },
    {
     "name": "stdout",
     "output_type": "stream",
     "text": [
      "Epoch 33/50\n",
      "\n"
     ]
    },
    {
     "name": "stderr",
     "output_type": "stream",
     "text": [
      "loss: 0.16503, smooth loss: 0.20644: 100%|██████████| 3217/3217 [22:17<00:00,  2.40it/s]\n",
      "100%|██████████| 805/805 [01:47<00:00,  7.45it/s]\n"
     ]
    },
    {
     "name": "stdout",
     "output_type": "stream",
     "text": [
      "Epoch 34/50\n",
      "\n"
     ]
    },
    {
     "name": "stderr",
     "output_type": "stream",
     "text": [
      "loss: 0.19203, smooth loss: 0.23863: 100%|██████████| 3217/3217 [22:17<00:00,  2.41it/s]\n",
      "100%|██████████| 805/805 [01:47<00:00,  7.47it/s]\n"
     ]
    },
    {
     "name": "stdout",
     "output_type": "stream",
     "text": [
      "Epoch 35/50\n",
      "\n"
     ]
    },
    {
     "name": "stderr",
     "output_type": "stream",
     "text": [
      "loss: 0.46432, smooth loss: 0.20803: 100%|██████████| 3217/3217 [22:17<00:00,  2.41it/s]\n",
      "100%|██████████| 805/805 [01:48<00:00,  7.45it/s]\n"
     ]
    },
    {
     "name": "stdout",
     "output_type": "stream",
     "text": [
      "Epoch 36/50\n",
      "\n"
     ]
    },
    {
     "name": "stderr",
     "output_type": "stream",
     "text": [
      "loss: 0.39530, smooth loss: 0.22771: 100%|██████████| 3217/3217 [22:17<00:00,  2.41it/s]\n",
      "100%|██████████| 805/805 [01:47<00:00,  7.48it/s]\n"
     ]
    },
    {
     "name": "stdout",
     "output_type": "stream",
     "text": [
      "Epoch 37/50\n",
      "\n"
     ]
    },
    {
     "name": "stderr",
     "output_type": "stream",
     "text": [
      "loss: 0.17161, smooth loss: 0.19809: 100%|██████████| 3217/3217 [22:17<00:00,  2.40it/s]\n",
      "100%|██████████| 805/805 [01:47<00:00,  7.46it/s]\n"
     ]
    },
    {
     "name": "stdout",
     "output_type": "stream",
     "text": [
      "Epoch 38/50\n",
      "\n"
     ]
    },
    {
     "name": "stderr",
     "output_type": "stream",
     "text": [
      "loss: 0.14992, smooth loss: 0.23161: 100%|██████████| 3217/3217 [22:17<00:00,  2.40it/s]\n",
      "100%|██████████| 805/805 [01:47<00:00,  7.48it/s]\n"
     ]
    },
    {
     "name": "stdout",
     "output_type": "stream",
     "text": [
      "Epoch 39/50\n",
      "\n"
     ]
    },
    {
     "name": "stderr",
     "output_type": "stream",
     "text": [
      "loss: 0.28897, smooth loss: 0.21953: 100%|██████████| 3217/3217 [22:18<00:00,  2.40it/s]\n",
      "100%|██████████| 805/805 [01:47<00:00,  7.48it/s]\n"
     ]
    },
    {
     "name": "stdout",
     "output_type": "stream",
     "text": [
      "Epoch 40/50\n",
      "\n"
     ]
    },
    {
     "name": "stderr",
     "output_type": "stream",
     "text": [
      "loss: 0.04079, smooth loss: 0.23166: 100%|██████████| 3217/3217 [22:18<00:00,  2.40it/s]\n",
      "100%|██████████| 805/805 [01:47<00:00,  7.48it/s]\n"
     ]
    },
    {
     "name": "stdout",
     "output_type": "stream",
     "text": [
      "Epoch 41/50\n",
      "\n"
     ]
    },
    {
     "name": "stderr",
     "output_type": "stream",
     "text": [
      "loss: 0.30202, smooth loss: 0.22291: 100%|██████████| 3217/3217 [22:16<00:00,  2.41it/s]\n",
      "100%|██████████| 805/805 [01:47<00:00,  7.48it/s]\n"
     ]
    },
    {
     "name": "stdout",
     "output_type": "stream",
     "text": [
      "Epoch 42/50\n",
      "\n"
     ]
    },
    {
     "name": "stderr",
     "output_type": "stream",
     "text": [
      "loss: 0.36101, smooth loss: 0.24058: 100%|██████████| 3217/3217 [22:16<00:00,  2.41it/s]\n",
      "100%|██████████| 805/805 [01:48<00:00,  7.45it/s]\n"
     ]
    },
    {
     "name": "stdout",
     "output_type": "stream",
     "text": [
      "Epoch 43/50\n",
      "\n"
     ]
    },
    {
     "name": "stderr",
     "output_type": "stream",
     "text": [
      "loss: 0.06505, smooth loss: 0.23013: 100%|██████████| 3217/3217 [22:17<00:00,  2.41it/s]\n",
      "100%|██████████| 805/805 [01:47<00:00,  7.46it/s]\n"
     ]
    },
    {
     "name": "stdout",
     "output_type": "stream",
     "text": [
      "Epoch 44/50\n",
      "\n"
     ]
    },
    {
     "name": "stderr",
     "output_type": "stream",
     "text": [
      "loss: 0.31235, smooth loss: 0.17784: 100%|██████████| 3217/3217 [22:16<00:00,  2.41it/s]\n",
      "100%|██████████| 805/805 [01:47<00:00,  7.47it/s]\n"
     ]
    },
    {
     "name": "stdout",
     "output_type": "stream",
     "text": [
      "Epoch 45/50\n",
      "\n"
     ]
    },
    {
     "name": "stderr",
     "output_type": "stream",
     "text": [
      "loss: 0.01971, smooth loss: 0.19824: 100%|██████████| 3217/3217 [22:17<00:00,  2.41it/s]\n",
      "100%|██████████| 805/805 [01:47<00:00,  7.46it/s]\n"
     ]
    },
    {
     "name": "stdout",
     "output_type": "stream",
     "text": [
      "Epoch 46/50\n",
      "\n"
     ]
    },
    {
     "name": "stderr",
     "output_type": "stream",
     "text": [
      "loss: 0.03468, smooth loss: 0.23096: 100%|██████████| 3217/3217 [22:17<00:00,  2.41it/s]\n",
      "100%|██████████| 805/805 [01:47<00:00,  7.47it/s]\n"
     ]
    },
    {
     "name": "stdout",
     "output_type": "stream",
     "text": [
      "Epoch 47/50\n",
      "\n"
     ]
    },
    {
     "name": "stderr",
     "output_type": "stream",
     "text": [
      "loss: 0.38374, smooth loss: 0.24168: 100%|██████████| 3217/3217 [22:17<00:00,  2.41it/s]\n",
      "100%|██████████| 805/805 [01:47<00:00,  7.46it/s]\n"
     ]
    },
    {
     "name": "stdout",
     "output_type": "stream",
     "text": [
      "Epoch 48/50\n",
      "\n"
     ]
    },
    {
     "name": "stderr",
     "output_type": "stream",
     "text": [
      "loss: 0.18908, smooth loss: 0.17868: 100%|██████████| 3217/3217 [22:17<00:00,  2.41it/s]\n",
      "100%|██████████| 805/805 [01:47<00:00,  7.46it/s]\n"
     ]
    },
    {
     "name": "stdout",
     "output_type": "stream",
     "text": [
      "Epoch 49/50\n",
      "\n"
     ]
    },
    {
     "name": "stderr",
     "output_type": "stream",
     "text": [
      "loss: 0.23410, smooth loss: 0.18333: 100%|██████████| 3217/3217 [22:17<00:00,  2.41it/s]\n",
      "100%|██████████| 805/805 [01:47<00:00,  7.46it/s]\n"
     ]
    },
    {
     "name": "stdout",
     "output_type": "stream",
     "text": [
      "Epoch 50/50\n",
      "\n"
     ]
    },
    {
     "name": "stderr",
     "output_type": "stream",
     "text": [
      "loss: 0.24000, smooth loss: 0.22716: 100%|██████████| 3217/3217 [22:17<00:00,  2.40it/s]\n",
      "100%|██████████| 805/805 [01:48<00:00,  7.45it/s]\n"
     ]
    }
   ],
   "execution_count": 6
  },
  {
   "metadata": {
    "ExecuteTime": {
     "end_time": "2025-02-03T01:16:30.746984Z",
     "start_time": "2025-02-03T01:16:30.690777Z"
    }
   },
   "cell_type": "code",
   "source": "model_checkpoint(model, 9, 10, save_path)",
   "id": "1a601c3aef6ea4b9",
   "outputs": [
    {
     "name": "stdout",
     "output_type": "stream",
     "text": [
      "Salvando o melhor modelo... 9 -> 10\n"
     ]
    },
    {
     "data": {
      "text/plain": [
       "10"
      ]
     },
     "execution_count": 9,
     "metadata": {},
     "output_type": "execute_result"
    }
   ],
   "execution_count": 9
  },
  {
   "metadata": {
    "ExecuteTime": {
     "end_time": "2025-02-02T22:56:42.856620Z",
     "start_time": "2025-02-02T22:56:42.854834Z"
    }
   },
   "cell_type": "code",
   "source": "",
   "id": "a28a093e4b4c095",
   "outputs": [],
   "execution_count": null
  },
  {
   "metadata": {
    "ExecuteTime": {
     "end_time": "2025-02-02T22:56:42.898667Z",
     "start_time": "2025-02-02T22:56:42.896892Z"
    }
   },
   "cell_type": "code",
   "source": "",
   "id": "2a4fccf829abb889",
   "outputs": [],
   "execution_count": null
  }
 ],
 "metadata": {
  "kernelspec": {
   "name": "python3",
   "language": "python",
   "display_name": "Python 3 (ipykernel)"
  }
 },
 "nbformat": 5,
 "nbformat_minor": 9
}
