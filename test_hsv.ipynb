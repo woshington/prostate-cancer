{
 "cells": [
  {
   "cell_type": "code",
   "execution_count": 2,
   "metadata": {},
   "outputs": [],
   "source": [
    "from torch import nn, load as torch_load\n",
    "import torch\n",
    "from torch.utils.data import DataLoader, Dataset\n",
    "from efficientnet_pytorch import model as efficientnet_model\n",
    "from tqdm import tqdm\n",
    "from skimage import io as skio, color\n",
    "import os\n",
    "import numpy as np\n",
    "import pandas as pd\n",
    "from sklearn.metrics import cohen_kappa_score"
   ]
  },
  {
   "cell_type": "code",
   "execution_count": 3,
   "metadata": {},
   "outputs": [],
   "source": [
    "output_dimensions = 5\n",
    "data_dir = 'dataset'\n",
    "images_dir = os.path.join(data_dir, 'tiles')\n",
    "device = torch.device(\"cuda\") if torch.cuda.is_available() else torch.device(\"cpu\")\n",
    "df_test = pd.read_csv(f\"data/test.csv\")\n",
    "\n",
    "df_pen_mask = pd.read_csv(\"data/without_pen_mask.csv\")\n",
    "df_test = df_test[~df_test['image_id'].isin(df_pen_mask['image_id'])]\n",
    "\n"
   ]
  },
  {
   "cell_type": "code",
   "execution_count": 4,
   "metadata": {},
   "outputs": [],
   "source": [
    "class EfficientNet(nn.Module):\n",
    "    \"\"\"\n",
    "        Classe que implementa a arquitetura EfficientNet\n",
    "\n",
    "        Parâmetros:\n",
    "            backbone: str\n",
    "                Nome do modelo de EfficientNet a ser utilizado\n",
    "            output_dimensions: int\n",
    "                Número de neuronios na camada de saída\n",
    "    \"\"\"\n",
    "    def __init__(self, output_dimensions):\n",
    "        super().__init__()\n",
    "        self.efficient_net = efficientnet_model.EfficientNet.from_pretrained(\"efficientnet-b0\")\n",
    "        # self.efficient_net.load_state_dict(\n",
    "        #     torch_load(\"pre-trained-models/efficientnet-b0_segmented_fold_2_without_pen.pth\", weights_only=True)\n",
    "        # )\n",
    "        self.fully_connected = nn.Linear(self.efficient_net._fc.in_features, output_dimensions)\n",
    "        self.efficient_net._fc = nn.Identity()\n",
    "\n",
    "    def extract(self, inputs):\n",
    "        return self.efficient_net(inputs)\n",
    "\n",
    "    def forward(self, inputs):\n",
    "        x = self.extract(inputs)\n",
    "        x = self.fully_connected(x)\n",
    "\n",
    "        return x"
   ]
  },
  {
   "cell_type": "code",
   "execution_count": 5,
   "metadata": {},
   "outputs": [],
   "source": [
    "class PandasDataset(Dataset):\n",
    "    def __init__(self, root_dir, dataframe, transforms=None):\n",
    "        self.root_dir = root_dir \n",
    "        self.dataframe = dataframe\n",
    "        self.transforms = transforms\n",
    "\n",
    "    def __len__(self):\n",
    "        return self.dataframe.shape[0]\n",
    "\n",
    "    def __getitem__(self, index):\n",
    "        row = self.dataframe.iloc[index]\n",
    "        img_id = row.image_id.strip()\n",
    "        \n",
    "        file_path = os.path.join(self.root_dir, f'{img_id}.jpg')\n",
    "        tile_image = skio.imread(file_path)\n",
    "        \n",
    "        if self.transforms is not None:\n",
    "            tile_image = self.transforms(image=tile_image)['image'] \n",
    "\n",
    "        tile_image = tile_image.astype(np.float32) / 255.0 \n",
    "        tile_image = np.transpose(tile_image, (2, 0, 1))\n",
    "\n",
    "        label = np.zeros(5).astype(np.float32)\n",
    "        label[:row.isup_grade] = 1.\n",
    "        \n",
    "        return torch.tensor(tile_image, dtype=torch.float32), torch.tensor(label, dtype=torch.float32)\n"
   ]
  },
  {
   "cell_type": "code",
   "execution_count": 6,
   "metadata": {},
   "outputs": [
    {
     "name": "stdout",
     "output_type": "stream",
     "text": [
      "Loaded pretrained weights for efficientnet-b0\n"
     ]
    },
    {
     "data": {
      "text/plain": [
       "<All keys matched successfully>"
      ]
     },
     "execution_count": 6,
     "metadata": {},
     "output_type": "execute_result"
    }
   ],
   "source": [
    "model = EfficientNet(output_dimensions)\n",
    "model.load_state_dict(\n",
    "    torch_load(\n",
    "        \"pre-trained-models/fold_0_hsv.pth\", \n",
    "        weights_only=True,\n",
    "        map_location=device\n",
    "    )\n",
    ")"
   ]
  },
  {
   "cell_type": "code",
   "execution_count": 7,
   "metadata": {},
   "outputs": [],
   "source": [
    "def calculate_metrics(preds, targets, df):\n",
    "    accuracy = (preds == targets).mean() * 100. # Calcula a acurácia em porcentagem\n",
    "    quadraditic_weighted_kappa = cohen_kappa_score(preds, targets, weights='quadratic') # Calcula o kappa quadrático ponderado dos dados em geral\n",
    "\n",
    "    quadraditic_weighted_kappa_karolinska = cohen_kappa_score(preds[df['data_provider'] == 'karolinska'], df[df['data_provider'] == 'karolinska'].isup_grade.values, weights='quadratic')\n",
    "    quadraditic_weighted_kappa_radboud = cohen_kappa_score(preds[df['data_provider'] == 'radboud'], df[df['data_provider'] == 'radboud'].isup_grade.values, weights='quadratic')\n",
    "\n",
    "    return accuracy, quadraditic_weighted_kappa, quadraditic_weighted_kappa_karolinska, quadraditic_weighted_kappa_radboud\n",
    "\n",
    "def evaluation(model, dataloader):\n",
    "    model.eval()\n",
    "    model.to(device)\n",
    "\n",
    "    bar_progress = tqdm(dataloader)\n",
    "\n",
    "    all_logits = []\n",
    "    preds = []\n",
    "    targets = []\n",
    "\n",
    "    with torch.no_grad():\n",
    "        for index, (batch_data, batch_targets) in enumerate(bar_progress):           \n",
    "            batch_data, batch_targets = batch_data.to(device), batch_targets.to(device)\n",
    "\n",
    "            logits = model(batch_data)\n",
    "            \n",
    "\n",
    "            prediction = logits.sigmoid()\n",
    "            prediction = prediction.sum(1).detach().round()\n",
    "        \n",
    "            all_logits.append(logits)\n",
    "            preds.append(prediction)\n",
    "            targets.append(batch_targets.sum(1))           \n",
    "\n",
    "        \n",
    "    all_logits = torch.cat(all_logits).cpu().numpy()\n",
    "    preds = torch.cat(preds).cpu().numpy()\n",
    "    targets = torch.cat(targets).cpu().numpy()\n",
    "\n",
    "    accuracy, quadraditic_weighted_kappa, quadraditic_weighted_kappa_karolinska, quadraditic_weighted_kappa_radboud = calculate_metrics(preds, targets, df_test)\n",
    "\n",
    "    return {\n",
    "        \"val_acc\":accuracy, \n",
    "        \"quadraditic_weighted_kappa\":quadraditic_weighted_kappa, \n",
    "        \"quadraditic_weighted_kappa_karolinska\":quadraditic_weighted_kappa_karolinska, \n",
    "        \"quadraditic_weighted_kappa_radboud\":quadraditic_weighted_kappa_radboud\n",
    "    }  "
   ]
  },
  {
   "cell_type": "code",
   "execution_count": null,
   "metadata": {},
   "outputs": [
    {
     "name": "stderr",
     "output_type": "stream",
     "text": [
      "  0%|          | 0/298 [00:00<?, ?it/s]"
     ]
    }
   ],
   "source": [
    "dataset_test = PandasDataset(images_dir, df_test, transforms = None)\n",
    "dataloader_test = DataLoader(dataset_test, batch_size=5, shuffle=False)\n",
    "response = evaluation(model, dataloader_test)"
   ]
  },
  {
   "cell_type": "code",
   "execution_count": 8,
   "metadata": {},
   "outputs": [
    {
     "data": {
      "text/plain": [
       "{'val_acc': np.float64(72.67833109017496),\n",
       " 'quadraditic_weighted_kappa': np.float64(0.924644657619639),\n",
       " 'quadraditic_weighted_kappa_karolinska': np.float64(0.9243876056146089),\n",
       " 'quadraditic_weighted_kappa_radboud': np.float64(0.9071492390863046)}"
      ]
     },
     "execution_count": 8,
     "metadata": {},
     "output_type": "execute_result"
    }
   ],
   "source": [
    "response"
   ]
  }
 ],
 "metadata": {
  "kernelspec": {
   "display_name": "venv",
   "language": "python",
   "name": "python3"
  },
  "language_info": {
   "codemirror_mode": {
    "name": "ipython",
    "version": 3
   },
   "file_extension": ".py",
   "mimetype": "text/x-python",
   "name": "python",
   "nbconvert_exporter": "python",
   "pygments_lexer": "ipython3",
   "version": "3.10.12"
  }
 },
 "nbformat": 4,
 "nbformat_minor": 2
}
