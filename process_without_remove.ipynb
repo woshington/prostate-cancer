{
 "cells": [
  {
   "metadata": {
    "ExecuteTime": {
     "end_time": "2025-02-06T12:11:25.499341Z",
     "start_time": "2025-02-06T12:11:22.391990Z"
    }
   },
   "cell_type": "code",
   "source": [
    "import numpy as np\n",
    "from warmup_scheduler import GradualWarmupScheduler\n",
    "import pandas as pd\n",
    "import os\n",
    "import torch\n",
    "from torch import nn, optim\n",
    "from sklearn.model_selection import train_test_split\n",
    "\n",
    "from work.utils.dataset import PandasDataset\n",
    "from work.utils.dataset import RemovePenMarkAlbumentations\n",
    "import albumentations as A\n",
    "\n",
    "from torch.utils.data import DataLoader\n",
    "from work.utils.models import EfficientNet\n",
    "from work.utils.train import train_model\n",
    "from work.utils.metrics import model_checkpoint"
   ],
   "id": "483668e801666484",
   "outputs": [
    {
     "name": "stderr",
     "output_type": "stream",
     "text": [
      "/home/woshington/Projects/Doutorado/venv/lib/python3.10/site-packages/albumentations/__init__.py:28: UserWarning: A new version of Albumentations is available: '2.0.3' (you have '2.0.2'). Upgrade using: pip install -U albumentations. To disable automatic update checks, set the environment variable NO_ALBUMENTATIONS_UPDATE to 1.\n",
      "  check_for_updates()\n"
     ]
    }
   ],
   "execution_count": 1
  },
  {
   "metadata": {
    "ExecuteTime": {
     "end_time": "2025-02-06T12:11:25.546416Z",
     "start_time": "2025-02-06T12:11:25.514298Z"
    }
   },
   "cell_type": "code",
   "source": [
    "backbone_model = 'efficientnet-b0'\n",
    "pretrained_model = {\n",
    "    backbone_model: 'pre-trained-models/efficientnet-b0-08094119.pth'\n",
    "}\n",
    "data_dir = 'data'\n",
    "images_dir = os.path.join(data_dir, 'tiles')\n",
    "device = torch.device(\"cuda\" if torch.cuda.is_available() else \"cpu\")\n",
    "print(device)"
   ],
   "id": "88fb66b70ae208d8",
   "outputs": [
    {
     "name": "stdout",
     "output_type": "stream",
     "text": [
      "cuda\n"
     ]
    }
   ],
   "execution_count": 2
  },
  {
   "metadata": {
    "ExecuteTime": {
     "end_time": "2025-02-06T12:11:25.663817Z",
     "start_time": "2025-02-06T12:11:25.652500Z"
    }
   },
   "cell_type": "code",
   "source": "df = pd.read_csv(f\"{data_dir}/train_val.csv\")",
   "id": "2d3af8bbbabe5715",
   "outputs": [],
   "execution_count": 3
  },
  {
   "metadata": {
    "ExecuteTime": {
     "end_time": "2025-02-06T12:11:25.711220Z",
     "start_time": "2025-02-06T12:11:25.708342Z"
    }
   },
   "cell_type": "code",
   "source": [
    "batch_size = 2\n",
    "num_workers = 4\n",
    "output_classes = 5\n",
    "init_lr = 3e-4\n",
    "loss_function = nn.BCEWithLogitsLoss()\n",
    "epochs = 50\n",
    "n_folds = 5\n",
    "device = torch.device(\"cuda\" if torch.cuda.is_available() else \"cpu\")"
   ],
   "id": "d3a4783244dd5d",
   "outputs": [],
   "execution_count": 4
  },
  {
   "metadata": {
    "ExecuteTime": {
     "end_time": "2025-02-06T12:11:25.765432Z",
     "start_time": "2025-02-06T12:11:25.760866Z"
    }
   },
   "cell_type": "code",
   "source": [
    "transforms = A.Compose([\n",
    "    # RemovePenMarkAlbumentations(),\n",
    "    A.Transpose(p=0.5),\n",
    "    A.VerticalFlip(p=0.5),\n",
    "    A.HorizontalFlip(p=0.5),\n",
    "])"
   ],
   "id": "178dead01c761666",
   "outputs": [],
   "execution_count": 5
  },
  {
   "metadata": {
    "ExecuteTime": {
     "end_time": "2025-02-07T10:41:09.222468Z",
     "start_time": "2025-02-06T12:11:25.835602Z"
    }
   },
   "cell_type": "code",
   "source": [
    "df_train, df_val = train_test_split(df, test_size=0.20)\n",
    "\n",
    "dataset_train = PandasDataset(\"../dataset/tiles\", df_train, transforms=transforms)\n",
    "dataset_valid = PandasDataset(\"../dataset/tiles\", df_val)\n",
    "\n",
    "print(f\"train: {len(dataset_train)} images | validation: {len(dataset_valid)} images \")\n",
    "\n",
    "train_loader = DataLoader(dataset_train, batch_size=batch_size, shuffle=True, num_workers=num_workers)\n",
    "\n",
    "valid_loader = DataLoader(dataset_valid, batch_size=batch_size, shuffle=True, num_workers=num_workers)\n",
    "\n",
    "model = EfficientNet(backbone_model, output_classes, weights_path=pretrained_model.get(backbone_model))\n",
    "optimizer = optim.Adam(model.parameters(), lr=init_lr)\n",
    "scheduler_cosine = torch.optim.lr_scheduler.CosineAnnealingLR(optimizer, epochs - 1)\n",
    "\n",
    "scheduler = GradualWarmupScheduler(optimizer, multiplier=10, total_epoch = 1, after_scheduler=scheduler_cosine)\n",
    "\n",
    "\n",
    "save_path = f'pre-trained-models/epochs-without-remove.pth'\n",
    "\n",
    "train_model(\n",
    "    model,\n",
    "    epochs,\n",
    "    optimizer,\n",
    "    scheduler,\n",
    "    train_loader,\n",
    "    valid_loader,\n",
    "    df_val,\n",
    "    checkpoint=model_checkpoint,\n",
    "    device=device,\n",
    "    loss_function=loss_function,\n",
    "    path_to_save_metrics=\"logs/history/without-remove.txt\",\n",
    "    path_to_save_model=save_path,\n",
    ")\n",
    "\n"
   ],
   "id": "c81b076171c0b059",
   "outputs": [
    {
     "name": "stdout",
     "output_type": "stream",
     "text": [
      "train: 7219 images | validation: 1805 images \n",
      "Loaded pretrained weights for efficientnet-b0\n",
      "Epoch 1/50\n",
      "\n"
     ]
    },
    {
     "name": "stderr",
     "output_type": "stream",
     "text": [
      "loss: 0.09336, smooth loss: 0.38283: 100%|██████████| 3610/3610 [25:03<00:00,  2.40it/s]\n",
      "100%|██████████| 903/903 [02:00<00:00,  7.52it/s]\n"
     ]
    },
    {
     "name": "stdout",
     "output_type": "stream",
     "text": [
      "Epoch 2/50\n",
      "\n"
     ]
    },
    {
     "name": "stderr",
     "output_type": "stream",
     "text": [
      "loss: 0.32105, smooth loss: 0.50136: 100%|██████████| 3610/3610 [24:54<00:00,  2.41it/s]\n",
      "100%|██████████| 903/903 [02:00<00:00,  7.51it/s]\n"
     ]
    },
    {
     "name": "stdout",
     "output_type": "stream",
     "text": [
      "Epoch 3/50\n",
      "\n"
     ]
    },
    {
     "name": "stderr",
     "output_type": "stream",
     "text": [
      "loss: 0.27157, smooth loss: 0.46067: 100%|██████████| 3610/3610 [24:55<00:00,  2.41it/s]\n",
      "100%|██████████| 903/903 [02:00<00:00,  7.49it/s]\n"
     ]
    },
    {
     "name": "stdout",
     "output_type": "stream",
     "text": [
      "Epoch 4/50\n",
      "\n"
     ]
    },
    {
     "name": "stderr",
     "output_type": "stream",
     "text": [
      "loss: 0.30264, smooth loss: 0.39157: 100%|██████████| 3610/3610 [24:56<00:00,  2.41it/s]\n",
      "100%|██████████| 903/903 [02:00<00:00,  7.48it/s]\n"
     ]
    },
    {
     "name": "stdout",
     "output_type": "stream",
     "text": [
      "Epoch 5/50\n",
      "\n"
     ]
    },
    {
     "name": "stderr",
     "output_type": "stream",
     "text": [
      "loss: 0.44421, smooth loss: 0.37702: 100%|██████████| 3610/3610 [24:55<00:00,  2.41it/s]\n",
      "100%|██████████| 903/903 [02:00<00:00,  7.50it/s]\n"
     ]
    },
    {
     "name": "stdout",
     "output_type": "stream",
     "text": [
      "Epoch 6/50\n",
      "\n"
     ]
    },
    {
     "name": "stderr",
     "output_type": "stream",
     "text": [
      "loss: 0.19872, smooth loss: 0.38174: 100%|██████████| 3610/3610 [24:56<00:00,  2.41it/s]\n",
      "100%|██████████| 903/903 [02:00<00:00,  7.48it/s]\n"
     ]
    },
    {
     "name": "stdout",
     "output_type": "stream",
     "text": [
      "Epoch 7/50\n",
      "\n"
     ]
    },
    {
     "name": "stderr",
     "output_type": "stream",
     "text": [
      "loss: 0.08658, smooth loss: 0.31959: 100%|██████████| 3610/3610 [24:55<00:00,  2.41it/s]\n",
      "100%|██████████| 903/903 [02:00<00:00,  7.49it/s]\n"
     ]
    },
    {
     "name": "stdout",
     "output_type": "stream",
     "text": [
      "Epoch 8/50\n",
      "\n"
     ]
    },
    {
     "name": "stderr",
     "output_type": "stream",
     "text": [
      "loss: 0.16964, smooth loss: 0.36227: 100%|██████████| 3610/3610 [24:55<00:00,  2.41it/s]\n",
      "100%|██████████| 903/903 [02:00<00:00,  7.49it/s]\n"
     ]
    },
    {
     "name": "stdout",
     "output_type": "stream",
     "text": [
      "Epoch 9/50\n",
      "\n"
     ]
    },
    {
     "name": "stderr",
     "output_type": "stream",
     "text": [
      "loss: 0.20724, smooth loss: 0.34559: 100%|██████████| 3610/3610 [24:56<00:00,  2.41it/s]\n",
      "100%|██████████| 903/903 [02:00<00:00,  7.48it/s]\n"
     ]
    },
    {
     "name": "stdout",
     "output_type": "stream",
     "text": [
      "Epoch 10/50\n",
      "\n"
     ]
    },
    {
     "name": "stderr",
     "output_type": "stream",
     "text": [
      "loss: 0.36590, smooth loss: 0.33404: 100%|██████████| 3610/3610 [24:57<00:00,  2.41it/s]\n",
      "100%|██████████| 903/903 [02:00<00:00,  7.46it/s]\n"
     ]
    },
    {
     "name": "stdout",
     "output_type": "stream",
     "text": [
      "Epoch 11/50\n",
      "\n"
     ]
    },
    {
     "name": "stderr",
     "output_type": "stream",
     "text": [
      "loss: 0.17462, smooth loss: 0.37343: 100%|██████████| 3610/3610 [25:02<00:00,  2.40it/s]\n",
      "100%|██████████| 903/903 [02:00<00:00,  7.47it/s]\n"
     ]
    },
    {
     "name": "stdout",
     "output_type": "stream",
     "text": [
      "Epoch 12/50\n",
      "\n"
     ]
    },
    {
     "name": "stderr",
     "output_type": "stream",
     "text": [
      "loss: 0.48230, smooth loss: 0.36995: 100%|██████████| 3610/3610 [25:02<00:00,  2.40it/s]\n",
      "100%|██████████| 903/903 [02:01<00:00,  7.45it/s]\n"
     ]
    },
    {
     "name": "stdout",
     "output_type": "stream",
     "text": [
      "Epoch 13/50\n",
      "\n"
     ]
    },
    {
     "name": "stderr",
     "output_type": "stream",
     "text": [
      "loss: 0.69096, smooth loss: 0.34448: 100%|██████████| 3610/3610 [25:02<00:00,  2.40it/s]\n",
      "100%|██████████| 903/903 [02:01<00:00,  7.45it/s]\n"
     ]
    },
    {
     "name": "stdout",
     "output_type": "stream",
     "text": [
      "Epoch 14/50\n",
      "\n"
     ]
    },
    {
     "name": "stderr",
     "output_type": "stream",
     "text": [
      "loss: 0.14506, smooth loss: 0.32788: 100%|██████████| 3610/3610 [24:59<00:00,  2.41it/s]\n",
      "100%|██████████| 903/903 [02:00<00:00,  7.50it/s]\n"
     ]
    },
    {
     "name": "stdout",
     "output_type": "stream",
     "text": [
      "Epoch 15/50\n",
      "\n"
     ]
    },
    {
     "name": "stderr",
     "output_type": "stream",
     "text": [
      "loss: 0.07436, smooth loss: 0.32309: 100%|██████████| 3610/3610 [24:55<00:00,  2.41it/s]\n",
      "100%|██████████| 903/903 [02:00<00:00,  7.47it/s]\n"
     ]
    },
    {
     "name": "stdout",
     "output_type": "stream",
     "text": [
      "Epoch 16/50\n",
      "\n"
     ]
    },
    {
     "name": "stderr",
     "output_type": "stream",
     "text": [
      "loss: 0.01806, smooth loss: 0.27462: 100%|██████████| 3610/3610 [24:55<00:00,  2.41it/s]\n",
      "100%|██████████| 903/903 [02:00<00:00,  7.48it/s]\n"
     ]
    },
    {
     "name": "stdout",
     "output_type": "stream",
     "text": [
      "Epoch 17/50\n",
      "\n"
     ]
    },
    {
     "name": "stderr",
     "output_type": "stream",
     "text": [
      "loss: 0.02120, smooth loss: 0.26298: 100%|██████████| 3610/3610 [24:56<00:00,  2.41it/s]\n",
      "100%|██████████| 903/903 [02:01<00:00,  7.46it/s]\n"
     ]
    },
    {
     "name": "stdout",
     "output_type": "stream",
     "text": [
      "Epoch 18/50\n",
      "\n"
     ]
    },
    {
     "name": "stderr",
     "output_type": "stream",
     "text": [
      "loss: 0.17529, smooth loss: 0.32858: 100%|██████████| 3610/3610 [24:58<00:00,  2.41it/s]\n",
      "100%|██████████| 903/903 [02:00<00:00,  7.48it/s]\n"
     ]
    },
    {
     "name": "stdout",
     "output_type": "stream",
     "text": [
      "Epoch 19/50\n",
      "\n"
     ]
    },
    {
     "name": "stderr",
     "output_type": "stream",
     "text": [
      "loss: 0.41984, smooth loss: 0.26432: 100%|██████████| 3610/3610 [24:58<00:00,  2.41it/s]\n",
      "100%|██████████| 903/903 [02:00<00:00,  7.47it/s]\n"
     ]
    },
    {
     "name": "stdout",
     "output_type": "stream",
     "text": [
      "Epoch 20/50\n",
      "\n"
     ]
    },
    {
     "name": "stderr",
     "output_type": "stream",
     "text": [
      "loss: 0.07428, smooth loss: 0.24271: 100%|██████████| 3610/3610 [24:56<00:00,  2.41it/s]\n",
      "100%|██████████| 903/903 [02:00<00:00,  7.50it/s]\n"
     ]
    },
    {
     "name": "stdout",
     "output_type": "stream",
     "text": [
      "Epoch 21/50\n",
      "\n"
     ]
    },
    {
     "name": "stderr",
     "output_type": "stream",
     "text": [
      "loss: 0.17494, smooth loss: 0.26181: 100%|██████████| 3610/3610 [24:57<00:00,  2.41it/s]\n",
      "100%|██████████| 903/903 [02:00<00:00,  7.47it/s]\n"
     ]
    },
    {
     "name": "stdout",
     "output_type": "stream",
     "text": [
      "Epoch 22/50\n",
      "\n"
     ]
    },
    {
     "name": "stderr",
     "output_type": "stream",
     "text": [
      "loss: 0.39602, smooth loss: 0.25180: 100%|██████████| 3610/3610 [24:56<00:00,  2.41it/s]\n",
      "100%|██████████| 903/903 [02:00<00:00,  7.48it/s]\n"
     ]
    },
    {
     "name": "stdout",
     "output_type": "stream",
     "text": [
      "Epoch 23/50\n",
      "\n"
     ]
    },
    {
     "name": "stderr",
     "output_type": "stream",
     "text": [
      "loss: 0.27145, smooth loss: 0.24871: 100%|██████████| 3610/3610 [24:56<00:00,  2.41it/s]\n",
      "100%|██████████| 903/903 [02:00<00:00,  7.50it/s]\n"
     ]
    },
    {
     "name": "stdout",
     "output_type": "stream",
     "text": [
      "Epoch 24/50\n",
      "\n"
     ]
    },
    {
     "name": "stderr",
     "output_type": "stream",
     "text": [
      "loss: 0.02757, smooth loss: 0.24451: 100%|██████████| 3610/3610 [24:56<00:00,  2.41it/s]\n",
      "100%|██████████| 903/903 [02:00<00:00,  7.48it/s]\n"
     ]
    },
    {
     "name": "stdout",
     "output_type": "stream",
     "text": [
      "Epoch 25/50\n",
      "\n"
     ]
    },
    {
     "name": "stderr",
     "output_type": "stream",
     "text": [
      "loss: 0.08699, smooth loss: 0.23590: 100%|██████████| 3610/3610 [24:57<00:00,  2.41it/s]\n",
      "100%|██████████| 903/903 [02:00<00:00,  7.48it/s]\n"
     ]
    },
    {
     "name": "stdout",
     "output_type": "stream",
     "text": [
      "Epoch 26/50\n",
      "\n"
     ]
    },
    {
     "name": "stderr",
     "output_type": "stream",
     "text": [
      "loss: 0.18118, smooth loss: 0.30525: 100%|██████████| 3610/3610 [24:56<00:00,  2.41it/s]\n",
      "100%|██████████| 903/903 [02:00<00:00,  7.49it/s]\n"
     ]
    },
    {
     "name": "stdout",
     "output_type": "stream",
     "text": [
      "Epoch 27/50\n",
      "\n"
     ]
    },
    {
     "name": "stderr",
     "output_type": "stream",
     "text": [
      "loss: 0.03686, smooth loss: 0.24890: 100%|██████████| 3610/3610 [24:55<00:00,  2.41it/s]\n",
      "100%|██████████| 903/903 [02:00<00:00,  7.47it/s]\n"
     ]
    },
    {
     "name": "stdout",
     "output_type": "stream",
     "text": [
      "Epoch 28/50\n",
      "\n"
     ]
    },
    {
     "name": "stderr",
     "output_type": "stream",
     "text": [
      "loss: 0.06702, smooth loss: 0.26588: 100%|██████████| 3610/3610 [24:56<00:00,  2.41it/s]\n",
      "100%|██████████| 903/903 [02:00<00:00,  7.49it/s]\n"
     ]
    },
    {
     "name": "stdout",
     "output_type": "stream",
     "text": [
      "Epoch 29/50\n",
      "\n"
     ]
    },
    {
     "name": "stderr",
     "output_type": "stream",
     "text": [
      "loss: 0.16036, smooth loss: 0.22265: 100%|██████████| 3610/3610 [24:56<00:00,  2.41it/s]\n",
      "100%|██████████| 903/903 [02:00<00:00,  7.47it/s]\n"
     ]
    },
    {
     "name": "stdout",
     "output_type": "stream",
     "text": [
      "Epoch 30/50\n",
      "\n"
     ]
    },
    {
     "name": "stderr",
     "output_type": "stream",
     "text": [
      "loss: 0.26215, smooth loss: 0.22990: 100%|██████████| 3610/3610 [24:55<00:00,  2.41it/s]\n",
      "100%|██████████| 903/903 [02:00<00:00,  7.48it/s]\n"
     ]
    },
    {
     "name": "stdout",
     "output_type": "stream",
     "text": [
      "Epoch 31/50\n",
      "\n"
     ]
    },
    {
     "name": "stderr",
     "output_type": "stream",
     "text": [
      "loss: 0.10504, smooth loss: 0.20437: 100%|██████████| 3610/3610 [24:55<00:00,  2.41it/s]\n",
      "100%|██████████| 903/903 [02:00<00:00,  7.48it/s]\n"
     ]
    },
    {
     "name": "stdout",
     "output_type": "stream",
     "text": [
      "Epoch 32/50\n",
      "\n"
     ]
    },
    {
     "name": "stderr",
     "output_type": "stream",
     "text": [
      "loss: 0.02423, smooth loss: 0.24733: 100%|██████████| 3610/3610 [24:55<00:00,  2.41it/s]\n",
      "100%|██████████| 903/903 [02:01<00:00,  7.44it/s]\n"
     ]
    },
    {
     "name": "stdout",
     "output_type": "stream",
     "text": [
      "Epoch 33/50\n",
      "\n"
     ]
    },
    {
     "name": "stderr",
     "output_type": "stream",
     "text": [
      "loss: 0.02647, smooth loss: 0.19698: 100%|██████████| 3610/3610 [25:03<00:00,  2.40it/s]\n",
      "100%|██████████| 903/903 [02:01<00:00,  7.44it/s]\n"
     ]
    },
    {
     "name": "stdout",
     "output_type": "stream",
     "text": [
      "Epoch 34/50\n",
      "\n"
     ]
    },
    {
     "name": "stderr",
     "output_type": "stream",
     "text": [
      "loss: 0.58411, smooth loss: 0.21033: 100%|██████████| 3610/3610 [25:03<00:00,  2.40it/s]\n",
      "100%|██████████| 903/903 [02:01<00:00,  7.44it/s]\n"
     ]
    },
    {
     "name": "stdout",
     "output_type": "stream",
     "text": [
      "Epoch 35/50\n",
      "\n"
     ]
    },
    {
     "name": "stderr",
     "output_type": "stream",
     "text": [
      "loss: 0.15067, smooth loss: 0.23840: 100%|██████████| 3610/3610 [25:02<00:00,  2.40it/s]\n",
      "100%|██████████| 903/903 [02:01<00:00,  7.44it/s]\n"
     ]
    },
    {
     "name": "stdout",
     "output_type": "stream",
     "text": [
      "Epoch 36/50\n",
      "\n"
     ]
    },
    {
     "name": "stderr",
     "output_type": "stream",
     "text": [
      "loss: 0.11214, smooth loss: 0.25789: 100%|██████████| 3610/3610 [25:03<00:00,  2.40it/s]\n",
      "100%|██████████| 903/903 [02:00<00:00,  7.47it/s]\n"
     ]
    },
    {
     "name": "stdout",
     "output_type": "stream",
     "text": [
      "Epoch 37/50\n",
      "\n"
     ]
    },
    {
     "name": "stderr",
     "output_type": "stream",
     "text": [
      "loss: 0.02286, smooth loss: 0.21114: 100%|██████████| 3610/3610 [25:02<00:00,  2.40it/s]\n",
      "100%|██████████| 903/903 [02:01<00:00,  7.46it/s]\n"
     ]
    },
    {
     "name": "stdout",
     "output_type": "stream",
     "text": [
      "Epoch 38/50\n",
      "\n"
     ]
    },
    {
     "name": "stderr",
     "output_type": "stream",
     "text": [
      "loss: 0.11735, smooth loss: 0.24376: 100%|██████████| 3610/3610 [25:02<00:00,  2.40it/s]\n",
      "100%|██████████| 903/903 [02:01<00:00,  7.45it/s]\n"
     ]
    },
    {
     "name": "stdout",
     "output_type": "stream",
     "text": [
      "Epoch 39/50\n",
      "\n"
     ]
    },
    {
     "name": "stderr",
     "output_type": "stream",
     "text": [
      "loss: 0.02857, smooth loss: 0.19190: 100%|██████████| 3610/3610 [25:02<00:00,  2.40it/s]\n",
      "100%|██████████| 903/903 [02:01<00:00,  7.45it/s]\n"
     ]
    },
    {
     "name": "stdout",
     "output_type": "stream",
     "text": [
      "Epoch 40/50\n",
      "\n"
     ]
    },
    {
     "name": "stderr",
     "output_type": "stream",
     "text": [
      "loss: 0.01686, smooth loss: 0.22322: 100%|██████████| 3610/3610 [25:02<00:00,  2.40it/s]\n",
      "100%|██████████| 903/903 [02:01<00:00,  7.46it/s]\n"
     ]
    },
    {
     "name": "stdout",
     "output_type": "stream",
     "text": [
      "Epoch 41/50\n",
      "\n"
     ]
    },
    {
     "name": "stderr",
     "output_type": "stream",
     "text": [
      "loss: 0.01953, smooth loss: 0.20285: 100%|██████████| 3610/3610 [25:01<00:00,  2.40it/s]\n",
      "100%|██████████| 903/903 [02:01<00:00,  7.46it/s]\n"
     ]
    },
    {
     "name": "stdout",
     "output_type": "stream",
     "text": [
      "Epoch 42/50\n",
      "\n"
     ]
    },
    {
     "name": "stderr",
     "output_type": "stream",
     "text": [
      "loss: 0.02546, smooth loss: 0.19207: 100%|██████████| 3610/3610 [25:01<00:00,  2.40it/s]\n",
      "100%|██████████| 903/903 [02:00<00:00,  7.48it/s]\n"
     ]
    },
    {
     "name": "stdout",
     "output_type": "stream",
     "text": [
      "Epoch 43/50\n",
      "\n"
     ]
    },
    {
     "name": "stderr",
     "output_type": "stream",
     "text": [
      "loss: 0.09934, smooth loss: 0.19049: 100%|██████████| 3610/3610 [25:00<00:00,  2.41it/s]\n",
      "100%|██████████| 903/903 [02:00<00:00,  7.49it/s]\n"
     ]
    },
    {
     "name": "stdout",
     "output_type": "stream",
     "text": [
      "Epoch 44/50\n",
      "\n"
     ]
    },
    {
     "name": "stderr",
     "output_type": "stream",
     "text": [
      "loss: 0.03340, smooth loss: 0.21160: 100%|██████████| 3610/3610 [25:00<00:00,  2.41it/s]\n",
      "100%|██████████| 903/903 [02:00<00:00,  7.49it/s]\n"
     ]
    },
    {
     "name": "stdout",
     "output_type": "stream",
     "text": [
      "Epoch 45/50\n",
      "\n"
     ]
    },
    {
     "name": "stderr",
     "output_type": "stream",
     "text": [
      "loss: 0.01709, smooth loss: 0.18139: 100%|██████████| 3610/3610 [25:01<00:00,  2.40it/s]\n",
      "100%|██████████| 903/903 [02:00<00:00,  7.48it/s]\n"
     ]
    },
    {
     "name": "stdout",
     "output_type": "stream",
     "text": [
      "Epoch 46/50\n",
      "\n"
     ]
    },
    {
     "name": "stderr",
     "output_type": "stream",
     "text": [
      "loss: 0.16088, smooth loss: 0.18786: 100%|██████████| 3610/3610 [25:00<00:00,  2.41it/s]\n",
      "100%|██████████| 903/903 [02:00<00:00,  7.48it/s]\n"
     ]
    },
    {
     "name": "stdout",
     "output_type": "stream",
     "text": [
      "Epoch 47/50\n",
      "\n"
     ]
    },
    {
     "name": "stderr",
     "output_type": "stream",
     "text": [
      "loss: 0.02458, smooth loss: 0.22167: 100%|██████████| 3610/3610 [25:00<00:00,  2.41it/s]\n",
      "100%|██████████| 903/903 [02:00<00:00,  7.48it/s]\n"
     ]
    },
    {
     "name": "stdout",
     "output_type": "stream",
     "text": [
      "Epoch 48/50\n",
      "\n"
     ]
    },
    {
     "name": "stderr",
     "output_type": "stream",
     "text": [
      "loss: 0.25630, smooth loss: 0.26049: 100%|██████████| 3610/3610 [24:59<00:00,  2.41it/s]\n",
      "100%|██████████| 903/903 [02:00<00:00,  7.52it/s]\n"
     ]
    },
    {
     "name": "stdout",
     "output_type": "stream",
     "text": [
      "Epoch 49/50\n",
      "\n"
     ]
    },
    {
     "name": "stderr",
     "output_type": "stream",
     "text": [
      "loss: 0.18290, smooth loss: 0.19351: 100%|██████████| 3610/3610 [25:01<00:00,  2.40it/s]\n",
      "100%|██████████| 903/903 [02:00<00:00,  7.51it/s]\n"
     ]
    },
    {
     "name": "stdout",
     "output_type": "stream",
     "text": [
      "Epoch 50/50\n",
      "\n"
     ]
    },
    {
     "name": "stderr",
     "output_type": "stream",
     "text": [
      "loss: 0.13952, smooth loss: 0.16857: 100%|██████████| 3610/3610 [25:01<00:00,  2.40it/s]\n",
      "100%|██████████| 903/903 [02:00<00:00,  7.50it/s]\n"
     ]
    }
   ],
   "execution_count": 6
  },
  {
   "metadata": {
    "ExecuteTime": {
     "end_time": "2025-02-07T10:41:09.306726Z",
     "start_time": "2025-02-07T10:41:09.261Z"
    }
   },
   "cell_type": "code",
   "source": "model_checkpoint(model, 9, 10, save_path)",
   "id": "1a601c3aef6ea4b9",
   "outputs": [
    {
     "name": "stdout",
     "output_type": "stream",
     "text": [
      "Salvando o melhor modelo... 9 -> 10\n"
     ]
    },
    {
     "data": {
      "text/plain": [
       "10"
      ]
     },
     "execution_count": 7,
     "metadata": {},
     "output_type": "execute_result"
    }
   ],
   "execution_count": 7
  },
  {
   "metadata": {
    "ExecuteTime": {
     "end_time": "2025-02-07T10:41:09.314654Z",
     "start_time": "2025-02-07T10:41:09.312958Z"
    }
   },
   "cell_type": "code",
   "source": "",
   "id": "a28a093e4b4c095",
   "outputs": [],
   "execution_count": null
  },
  {
   "metadata": {
    "ExecuteTime": {
     "end_time": "2025-02-07T10:41:09.360007Z",
     "start_time": "2025-02-07T10:41:09.358130Z"
    }
   },
   "cell_type": "code",
   "source": "",
   "id": "2a4fccf829abb889",
   "outputs": [],
   "execution_count": null
  }
 ],
 "metadata": {
  "kernelspec": {
   "name": "python3",
   "language": "python",
   "display_name": "Python 3 (ipykernel)"
  }
 },
 "nbformat": 5,
 "nbformat_minor": 9
}
