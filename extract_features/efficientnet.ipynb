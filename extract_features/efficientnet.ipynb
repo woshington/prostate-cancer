{
 "cells": [
  {
   "cell_type": "code",
   "execution_count": 2,
   "metadata": {},
   "outputs": [
    {
     "name": "stderr",
     "output_type": "stream",
     "text": [
      "/home/woshington/Projects/Doutorado/venv/lib/python3.10/site-packages/albumentations/check_version.py:51: UserWarning: Error fetching version info <urlopen error [Errno -3] Temporary failure in name resolution>\n",
      "  data = fetch_version_info()\n"
     ]
    }
   ],
   "source": [
    "import numpy as np\n",
    "import pandas as pd\n",
    "import albumentations as A\n",
    "from albumentations.pytorch import ToTensorV2\n",
    "from skimage import io as skio\n",
    "import torch\n",
    "import torch.nn as nn\n",
    "from efficientnet_pytorch import model as efficientnet_model\n",
    "from concurrent.futures import ThreadPoolExecutor\n",
    "from torch.utils.data import Dataset, DataLoader"
   ]
  },
  {
   "cell_type": "code",
   "execution_count": 3,
   "metadata": {},
   "outputs": [],
   "source": [
    "dataset_dir=\"../dataset\"\n",
    "data_csv_path=f\"../data\"\n",
    "output_dimensions = 5"
   ]
  },
  {
   "cell_type": "code",
   "execution_count": 4,
   "metadata": {},
   "outputs": [],
   "source": [
    "df_train = pd.read_csv(f\"{data_csv_path}/train.csv\")\n",
    "df_val = pd.read_csv(f\"{data_csv_path}/val.csv\")\n",
    "df_test = pd.read_csv(f\"{data_csv_path}/test.csv\")\n",
    "df_pen_mark = pd.read_csv(f\"{data_csv_path}/without_pen_mask.csv\")\n",
    "\n",
    "df_train = df_train[~df_train[\"image_id\"].isin(df_pen_mark[\"image_id\"])]\n",
    "df_val = df_val[~df_val[\"image_id\"].isin(df_pen_mark[\"image_id\"])]\n",
    "df_test = df_test[~df_test[\"image_id\"].isin(df_pen_mark[\"image_id\"])]\n",
    "\n",
    "IMG_DIR = f\"{dataset_dir}/tiles\""
   ]
  },
  {
   "cell_type": "code",
   "execution_count": 5,
   "metadata": {},
   "outputs": [],
   "source": [
    "transforms_train = A.Compose([\n",
    "    A.Transpose(p=0.5),\n",
    "    A.Resize(224, 224),\n",
    "    A.VerticalFlip(p=0.5),\n",
    "    A.HorizontalFlip(p=0.5),\n",
    "    A.ToFloat(),\n",
    "    ToTensorV2()\n",
    "])"
   ]
  },
  {
   "cell_type": "code",
   "execution_count": 6,
   "metadata": {},
   "outputs": [],
   "source": [
    "def extract_features(args):\n",
    "    image_path, label, index, transform, model = args\n",
    "    print(f\"Processando item: {index+1}\")\n",
    "\n",
    "    image = skio.imread(image_path)\n",
    "    \n",
    "    if transform:\n",
    "        image = transform(image=image)[\"image\"]\n",
    "    \n",
    "    image /= 255\n",
    "    image = image.unsqueeze(0)\n",
    "    \n",
    "    with torch.no_grad():\n",
    "        features = model(image)\n",
    "    \n",
    "    features = features.flatten(start_dim=1).squeeze().numpy()\n",
    "    \n",
    "    return features, label"
   ]
  },
  {
   "cell_type": "code",
   "execution_count": 7,
   "metadata": {},
   "outputs": [],
   "source": [
    "class EfficientNetFeatureExtractor(nn.Module):    \n",
    "    def __init__(self):\n",
    "        super().__init__()\n",
    "        self.efficient_net = efficientnet_model.EfficientNet.from_pretrained(\"efficientnet-b0\")        \n",
    "        self.efficient_net.load_state_dict(\n",
    "            torch.load(\"../pre-trained-models/efficientnet-b0-08094119.pth\", weights_only=True)\n",
    "        )\n",
    "        self.efficient_net._fc = nn.Identity()\n",
    "\n",
    "    def extract(self, inputs):\n",
    "        return self.efficient_net.extract_features(inputs)\n",
    "\n",
    "    def forward(self, inputs):\n",
    "        return self.extract(inputs)        \n"
   ]
  },
  {
   "cell_type": "code",
   "execution_count": 8,
   "metadata": {},
   "outputs": [],
   "source": [
    "class ImageDataset(Dataset):\n",
    "    def __init__(self, dataframe, img_dir, transform=None):\n",
    "        self.dataframe = dataframe\n",
    "        self.img_dir = img_dir\n",
    "        self.transform = transform\n",
    "\n",
    "    def __len__(self):\n",
    "        return len(self.dataframe)\n",
    "\n",
    "    def __getitem__(self, idx):\n",
    "        row = self.dataframe.iloc[idx]\n",
    "        img_path = f\"{self.img_dir}/{row['image_id']}.jpg\"\n",
    "        label = row['isup_grade']\n",
    "        \n",
    "        image = skio.imread(img_path)  # Lê a imagem\n",
    "        if self.transform:\n",
    "            image = self.transform(image=image)[\"image\"]\n",
    "        image = image / 255.0  # Normaliza para [0, 1]\n",
    "        \n",
    "        return image.clone().detach().float(), label"
   ]
  },
  {
   "cell_type": "code",
   "execution_count": 9,
   "metadata": {},
   "outputs": [],
   "source": [
    "def extract_features_dataloader(data_loader, model, device):\n",
    "    all_features = []\n",
    "    all_labels = []\n",
    "    model.eval()\n",
    "    model.to(device)\n",
    "    \n",
    "    with torch.no_grad():\n",
    "        for images, labels in data_loader:\n",
    "            images = images.to(device)  # Move images para o mesmo dispositivo do modelo\n",
    "            features = model(images)  # Extrai características\n",
    "            features = features.view(features.size(0), -1).cpu().numpy()  # Achata para 2D\n",
    "            all_features.append(features)\n",
    "            all_labels.append(labels.numpy())  # Converte rótulos para NumPy\n",
    "        \n",
    "    all_features = np.vstack(all_features)  # Combina todas as características em um array 2D\n",
    "    all_labels = np.concatenate(all_labels)  # Combina todos os rótulos em 1D\n",
    "    return all_features, all_labels\n"
   ]
  },
  {
   "cell_type": "code",
   "execution_count": 10,
   "metadata": {},
   "outputs": [],
   "source": [
    "train_dataset = ImageDataset(df_train, IMG_DIR, transform=transforms_train)\n",
    "train_loader = DataLoader(train_dataset, batch_size=1, shuffle=True, num_workers=4)\n",
    "\n",
    "val_dataset = ImageDataset(df_val, IMG_DIR, transform=transforms_train)\n",
    "val_loader = DataLoader(val_dataset, batch_size=2, shuffle=False, num_workers=4)\n",
    "\n",
    "test_dataset = ImageDataset(df_test, IMG_DIR, transform=transforms_train)\n",
    "test_loader = DataLoader(test_dataset, batch_size=2, shuffle=False, num_workers=4)"
   ]
  },
  {
   "cell_type": "code",
   "execution_count": 11,
   "metadata": {},
   "outputs": [
    {
     "name": "stdout",
     "output_type": "stream",
     "text": [
      "Loaded pretrained weights for efficientnet-b0\n"
     ]
    }
   ],
   "source": [
    "model = EfficientNetFeatureExtractor()\n",
    "device = torch.device(\"cuda\" if torch.cuda.is_available() else \"cpu\")"
   ]
  },
  {
   "cell_type": "code",
   "execution_count": 12,
   "metadata": {},
   "outputs": [],
   "source": [
    "train_features, train_labels = extract_features_dataloader(train_loader, model, device)\n",
    "train_data = np.column_stack((train_features, train_labels))"
   ]
  },
  {
   "cell_type": "code",
   "execution_count": 13,
   "metadata": {},
   "outputs": [],
   "source": [
    "np.save(\"train_data.npy\", train_data)"
   ]
  },
  {
   "cell_type": "code",
   "execution_count": 14,
   "metadata": {},
   "outputs": [],
   "source": [
    "val_features, val_labels = extract_features_dataloader(val_loader, model, device)\n",
    "val_data = np.column_stack((val_features, val_labels))"
   ]
  },
  {
   "cell_type": "code",
   "execution_count": 15,
   "metadata": {},
   "outputs": [],
   "source": [
    "np.save(\"val_data.npy\", val_data)"
   ]
  },
  {
   "cell_type": "code",
   "execution_count": 16,
   "metadata": {},
   "outputs": [],
   "source": [
    "test_features, test_labels = extract_features_dataloader(test_loader, model, device)\n",
    "test_data = np.column_stack((test_features, test_labels))"
   ]
  },
  {
   "cell_type": "code",
   "execution_count": 17,
   "metadata": {},
   "outputs": [],
   "source": [
    "np.save(\"test_data.npy\", test_data)"
   ]
  }
 ],
 "metadata": {
  "kernelspec": {
   "display_name": "venv",
   "language": "python",
   "name": "python3"
  },
  "language_info": {
   "codemirror_mode": {
    "name": "ipython",
    "version": 3
   },
   "file_extension": ".py",
   "mimetype": "text/x-python",
   "name": "python",
   "nbconvert_exporter": "python",
   "pygments_lexer": "ipython3",
   "version": "3.10.12"
  }
 },
 "nbformat": 4,
 "nbformat_minor": 2
}
